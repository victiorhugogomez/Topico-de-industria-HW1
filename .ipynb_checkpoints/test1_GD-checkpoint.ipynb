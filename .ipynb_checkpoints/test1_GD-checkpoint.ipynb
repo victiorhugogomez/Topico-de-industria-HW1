{
 "cells": [
  {
   "cell_type": "markdown",
   "id": "1899e241-78d5-4937-82b4-72bff9b5031e",
   "metadata": {},
   "source": [
    "# MODULES"
   ]
  },
  {
   "cell_type": "code",
   "execution_count": null,
   "id": "c2d46868-2fa2-42ca-afab-8c2b0bd5de8a",
   "metadata": {},
   "outputs": [],
   "source": [
    "import numpy as np\n",
    "import matplotlib.pyplot as plt"
   ]
  },
  {
   "cell_type": "code",
   "execution_count": null,
   "id": "a59c5b5e-94e1-4ff0-a209-5ce6cae8656a",
   "metadata": {},
   "outputs": [],
   "source": [
    "def f_sphere(x, y):\n",
    "    return x**2 + y**2\n",
    "\n",
    "# Define a meshgrid for plotting the function\n",
    "x_range = np.arange(-15, 15, 0.1)\n",
    "y_range = np.arange(-15, 15, 0.1)\n",
    "\n",
    "X, Y = np.meshgrid(x_range, y_range)\n",
    "Z = f_sphere(X,Y)"
   ]
  },
  {
   "cell_type": "code",
   "execution_count": null,
   "id": "90c045d7-ecdf-497a-aa63-1b25c126d686",
   "metadata": {},
   "outputs": [],
   "source": [
    "# Plot the function\n",
    "fig = plt.figure()\n",
    "ax = fig.add_subplot(111, projection='3d')\n",
    "ax.plot_surface(X, Y, Z, cmap='coolwarm', alpha=0.5)\n",
    "\n",
    "ax.scatter(0,0,0, c='r', marker='o')\n",
    "\n",
    "ax.set_xlabel('x')\n",
    "ax.set_ylabel('y')\n",
    "ax.set_zlabel('function')\n",
    "plt.show()"
   ]
  }
 ],
 "metadata": {
  "kernelspec": {
   "display_name": "Python 3 (ipykernel)",
   "language": "python",
   "name": "python3"
  },
  "language_info": {
   "codemirror_mode": {
    "name": "ipython",
    "version": 3
   },
   "file_extension": ".py",
   "mimetype": "text/x-python",
   "name": "python",
   "nbconvert_exporter": "python",
   "pygments_lexer": "ipython3",
   "version": "3.12.6"
  }
 },
 "nbformat": 4,
 "nbformat_minor": 5
}
